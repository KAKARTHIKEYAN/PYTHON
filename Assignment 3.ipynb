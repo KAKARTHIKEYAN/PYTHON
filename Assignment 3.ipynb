{
 "cells": [
  {
   "cell_type": "markdown",
   "metadata": {},
   "source": [
    "Write a function to compute 5/0 and use try/except to catch the exceptions."
   ]
  },
  {
   "cell_type": "code",
   "execution_count": 2,
   "metadata": {},
   "outputs": [
    {
     "name": "stdout",
     "output_type": "stream",
     "text": [
      "enter the number5\n",
      "enter the second number0\n",
      "Airthmetic Error\n"
     ]
    }
   ],
   "source": [
    "a = int(input(\"enter the number :\"))\n",
    "b = int(input(\"enter the second number : \"))\n",
    "try:\n",
    "    c =a/b\n",
    "except:\n",
    "    print(\"Airthmetic Error\")\n",
    "else:\n",
    "    print(\"The  Result is :\",c)"
   ]
  },
  {
   "cell_type": "code",
   "execution_count": null,
   "metadata": {},
   "outputs": [],
   "source": [
    "Implement a Python program to generate all sentences where subject is in [\"Americans\",\n",
    "\"Indians\"] and verb is in [\"Play\", \"watch\"] and the object is in [\"Baseball\",\"cricket\"].\n",
    "Hint: Subject,Verb and Object should be declared in the program as shown below.\n",
    "subjects=[\"Americans \",\"Indians\"]\n",
    "verbs=[\"play\",\"watch\"]\n",
    "objects=[\"Baseball\",\"Cricket\"]"
   ]
  },
  {
   "cell_type": "code",
   "execution_count": 25,
   "metadata": {},
   "outputs": [
    {
     "name": "stdout",
     "output_type": "stream",
     "text": [
      "Americans play Baseball.\n",
      "Americans play Cricket.\n",
      "Americans watch Baseball.\n",
      "Americans watch Cricket.\n",
      "Indians play Baseball.\n",
      "Indians play Cricket.\n",
      "Indians watch Baseball.\n",
      "Indians watch Cricket.\n"
     ]
    }
   ],
   "source": [
    "subjects=[\"Americans \",\"Indians \"]\n",
    "verbs=[\"play \",\"watch \"]\n",
    "objects=[\"Baseball\",\"Cricket\"]\n",
    "result = [x+y+z+\".\" for x in subjects for y in verbs for z in objects]\n",
    "#convert the list to str and print it according to desired output\n",
    "for x in result:\n",
    "    print(x)\n",
    "\n"
   ]
  },
  {
   "cell_type": "markdown",
   "metadata": {},
   "source": [
    "Write a function so that the columns of the output matrix are powers of the input vector. The order of the powers is determined by the increasing boolean argument. Specifically, when increasing is False, the i-th output column is the input vector raised element-wise to the power of N - i - 1. HINT: Such a matrix with a geometric progression in each row is named for AlexandreTheophile Vandermonde."
   ]
  },
  {
   "cell_type": "code",
   "execution_count": 26,
   "metadata": {},
   "outputs": [
    {
     "name": "stdout",
     "output_type": "stream",
     "text": [
      "Enter the  list of number :1,2,3,4\n",
      "Enter the number of coutput columns needed : 3\n",
      "\n",
      "Output matrix in Increasing order\n",
      " [[ 1  1  1]\n",
      " [ 1  2  4]\n",
      " [ 1  3  9]\n",
      " [ 1  4 16]]\n",
      "\n",
      "Output matrix in Decreasing order\n",
      " [[ 1  1  1]\n",
      " [ 4  2  1]\n",
      " [ 9  3  1]\n",
      " [16  4  1]]\n"
     ]
    }
   ],
   "source": [
    "import numpy as np\n",
    "def convertUserIpToArray(userInput):\n",
    "    myCustomList = []\n",
    "    Input = userInput.split(\",\")\n",
    "    for element in Input:\n",
    "        myCustomList.append(int(element))\n",
    "    arr = np.array(myCustomList)\n",
    "    return arr\n",
    "def generateVanderMatrix(ipList,noOpCol,increasing):\n",
    "        if(increasing):\n",
    "          \n",
    "            Result_op = np.array([x**y for x in ipList for y in range(noOpCol)]).reshape(ipList.size,noOpCol)\n",
    "        else:\n",
    "             Result_op = np.array([x**(noOpCol-1-y) for x in ipList for y in range(noOpCol)]).reshape(ipList.size,noOpCol)\n",
    "        return Result_op\n",
    "\n",
    "userList = convertUserIpToArray(input(\"Enter the  list of number :\"))\n",
    "opCol = int(input(\"Enter the number of coutput columns needed : \"))\n",
    "increaseOrder = generateVanderMatrix(userList,opCol,True)\n",
    "decreaseOrder = generateVanderMatrix(userList,opCol,False)\n",
    "print(\"\\nOutput matrix in Increasing order\\n\",increaseOrder)\n",
    "print(\"\\nOutput matrix in Decreasing order\\n\",decreaseOrder)"
   ]
  },
  {
   "cell_type": "code",
   "execution_count": null,
   "metadata": {},
   "outputs": [],
   "source": []
  }
 ],
 "metadata": {
  "kernelspec": {
   "display_name": "Python 3",
   "language": "python",
   "name": "python3"
  },
  "language_info": {
   "codemirror_mode": {
    "name": "ipython",
    "version": 3
   },
   "file_extension": ".py",
   "mimetype": "text/x-python",
   "name": "python",
   "nbconvert_exporter": "python",
   "pygments_lexer": "ipython3",
   "version": "3.7.4"
  }
 },
 "nbformat": 4,
 "nbformat_minor": 2
}
