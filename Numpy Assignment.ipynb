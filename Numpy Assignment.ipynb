{
 "cells": [
  {
   "cell_type": "markdown",
   "metadata": {},
   "source": [
    "Write a function to compute 5/0 and use try/except to catch the exceptions"
   ]
  },
  {
   "cell_type": "markdown",
   "metadata": {},
   "source": [
    "Implement a Python program to generate all sentences where subject is in [\"Americans\",\n",
    "\"Indians\"] and verb is in [\"Play\", \"watch\"] and the object is in [\"Baseball\",\"cricket\"].\n",
    "Hint: Subject,Verb and Object should be declared in the program as shown below.\n",
    "subjects=[\"Americans \",\"Indians\"]\n",
    "verbs=[\"play\",\"watch\"]\n",
    "objects=[\"Baseball\",\"Cricket\"]"
   ]
  },
  {
   "cell_type": "code",
   "execution_count": null,
   "metadata": {},
   "outputs": [],
   "source": [
    "subjects=[\"Americans \",\"Indians\"]\n",
    "verbs=[\"play\",\"watch\"]\n",
    "objects=[\"Baseball\",\"Cricket\"]\n",
    "for x in subjects:\n",
    "    "
   ]
  },
  {
   "cell_type": "code",
   "execution_count": null,
   "metadata": {},
   "outputs": [],
   "source": []
  },
  {
   "cell_type": "markdown",
   "metadata": {},
   "source": [
    "Write a function so that the columns of the output matrix are powers of the input\n",
    "vector.\n",
    "The order of the powers is determined by the increasing boolean argument. Specifically, when\n",
    "increasing is False, the i-th output column is the input vector raised element-wise to the power\n",
    "of N - i - 1.\n",
    "HINT: Such a matrix with a geometric progression in each row is named for AlexandreTheophile Vandermonde.\n"
   ]
  },
  {
   "cell_type": "code",
   "execution_count": null,
   "metadata": {},
   "outputs": [],
   "source": [
    "import numpy as np\n",
    "def convertUserIpToArray(userInput):\n",
    "    myCustomList = []\n",
    "    Input = userInput.split(\",\")\n",
    "    for element in Input:\n",
    "        myCustomList.append(int(element))\n",
    "    arr = np.array(myCustomList)\n",
    "    return arr\n",
    "def generateVanderMatrix(ipList,noOpCol,increasing):\n",
    "        if(increasing):\n",
    "          \n",
    "            Result_op = np.array([x**y for x in ipList for y in range(noOpCol)]).reshape(ipList.size,noOpCol)\n",
    "        else:\n",
    "             Result_op = np.array([x**(noOpCol-1-y) for x in ipList for y in range(noOpCol)]).reshape(ipList.size,noOpCol)\n",
    "        return Result_op\n",
    "\n",
    "userList = convertUserIpToArray(input(\"Enter the  list of number :\"))\n",
    "opCol = int(input(\"Enter the number of coutput columns needed : \"))\n",
    "increaseOrder = generateVanderMatrix(userList,opCol,True)\n",
    "decreaseOrder = generateVanderMatrix(userList,opCol,False)\n",
    "print(\"\\nOutput matrix in Increasing order\\n\",increaseOrder)\n",
    "print(\"\\nOutput matrix in Decreasing order\\n\",decreaseOrder)"
   ]
  },
  {
   "cell_type": "markdown",
   "metadata": {},
   "source": [
    "Write a function to find moving average in an array over a window:\n",
    " Test it over [3, 5, 7, 2, 8, 10, 11, 65, 72, 81, 99, 100, 150] and window of 3."
   ]
  },
  {
   "cell_type": "code",
   "execution_count": 2,
   "metadata": {},
   "outputs": [
    {
     "name": "stdout",
     "output_type": "stream",
     "text": [
      "Y1 5\n",
      "Y2 4\n",
      "Y3 5\n",
      "Y4 6\n",
      "Y5 9\n",
      "Y6 28\n",
      "Y7 49\n",
      "Y8 72\n",
      "Y9 84\n",
      "Y10 93\n",
      "Y11 116\n",
      "The moving average sequence has 11 values\n"
     ]
    },
    {
     "data": {
      "text/plain": [
       "int"
      ]
     },
     "execution_count": 2,
     "metadata": {},
     "output_type": "execute_result"
    }
   ],
   "source": [
    "testk = [10,20 ,30 ,40 ,50 ,60 ,70 ,80 ,90 ,100]\n",
    "test =[3, 5, 7, 2, 8, 10, 11, 65, 72, 81, 99, 100, 150]\n",
    "len(test)\n",
    "w = len(test)-3+1\n",
    "result = []\n",
    "for x in test[:w]:\n",
    "        value = 0\n",
    "        starting = test.index(x)\n",
    "        end = starting + 3\n",
    "        for t in test[starting:end]:\n",
    "            value = value + t\n",
    "        print(\"Y\"+str(starting+1),int(value/3))\n",
    "        result.append(round(value/3,0))\n",
    "print(\"The moving average sequence has {} {}\".format(w,\"values\")  )     \n",
    "type(w)"
   ]
  },
  {
   "cell_type": "code",
   "execution_count": null,
   "metadata": {},
   "outputs": [],
   "source": []
  }
 ],
 "metadata": {
  "kernelspec": {
   "display_name": "Python 3",
   "language": "python",
   "name": "python3"
  },
  "language_info": {
   "codemirror_mode": {
    "name": "ipython",
    "version": 3
   },
   "file_extension": ".py",
   "mimetype": "text/x-python",
   "name": "python",
   "nbconvert_exporter": "python",
   "pygments_lexer": "ipython3",
   "version": "3.7.4"
  }
 },
 "nbformat": 4,
 "nbformat_minor": 2
}
