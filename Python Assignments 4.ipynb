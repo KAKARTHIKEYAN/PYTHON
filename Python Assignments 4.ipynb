{
 "cells": [
  {
   "cell_type": "markdown",
   "metadata": {},
   "source": [
    "Write a Python Program(with class concepts) to find the area of the triangle using the below formula. area = (s(s-a)(s-b)*(s-c)) ** 0.5 Function to take the length of the sides of triangle from user should be defined in the parent class and function to calculate the area should be defined in subclass."
   ]
  },
  {
   "cell_type": "code",
   "execution_count": 1,
   "metadata": {},
   "outputs": [
    {
     "name": "stdout",
     "output_type": "stream",
     "text": [
      "Enter the Length of  First side :5\n",
      "Enter the Length of Second side :6\n",
      "Enter the Length of Third side :7\n",
      "the Area of triangle is : 14.696938456699069\n"
     ]
    }
   ],
   "source": [
    "class triangle:\n",
    "    def __init__(self,a,b,c):\n",
    "        \n",
    "        self.a = a\n",
    "        self.b = b\n",
    "        self.c =c\n",
    "    def display(self):\n",
    "        print(\"the value of a \",self.a)\n",
    "        print(\"the value of a \",self.b)\n",
    "        print(\"the value of a \",self.c)\n",
    "class area(triangle):\n",
    "\n",
    "    def calSemiPerimeter(self):\n",
    "            self.s = (c.a+c.b+c.c)/2\n",
    "            \n",
    "    def calArea(self):\n",
    "        area = (self.s*(self.s-c.a)*(self.s-c.b)*(self.s-c.c))**0.5\n",
    "        print(\"the Area of triangle is :\" , area)\n",
    "\n",
    "a=int(input(\"Enter the Length of  First side :\" ))  \n",
    "b=int(input(\"Enter the Length of Second side :\" ))\n",
    "c=int(input(\"Enter the Length of Third side :\" ))    \n",
    "c = area(a,b,c)\n",
    "c.calSemiPerimeter()\n",
    "c.calArea()"
   ]
  },
  {
   "cell_type": "markdown",
   "metadata": {},
   "source": [
    "Write a function filter_long_words() that takes a list of words and an integer n and returns the list of words that are longer than n."
   ]
  },
  {
   "cell_type": "code",
   "execution_count": 3,
   "metadata": {},
   "outputs": [
    {
     "name": "stdout",
     "output_type": "stream",
     "text": [
      "Enter the List of Words :karthik,DS,ML\n",
      "Enter the individual word count :2\n",
      "The Filtered Word List is :  ['karthik']\n"
     ]
    }
   ],
   "source": [
    "def filter_long_words(userlist,userInput):\n",
    "    list = []\n",
    "    for x in userlist:\n",
    "        if len(x) > userInput:\n",
    "            list.append(x)\n",
    "    return list\n",
    "\n",
    "def convertUserInputToList(userInput):\n",
    "    myCustomList = []\n",
    "    Input = userInput.split(\",\")\n",
    "    for element in Input:\n",
    "        \n",
    "        element.strip()\n",
    "        myCustomList.append(element)\n",
    "    return myCustomList            \n",
    "\n",
    "userInput = input(\"Enter the List of Words :\")   \n",
    "maxNumber = int(input(\"Enter the individual word count :\"))\n",
    "myList = convertUserInputToList(userInput)\n",
    "filteredList = filter_long_words(myList,maxNumber)\n",
    "print(\"The Filtered Word List is : \",filteredList)"
   ]
  },
  {
   "cell_type": "markdown",
   "metadata": {},
   "source": [
    "Write a Python program using function concept that maps list of words into a list of integers representing the lengths of the corresponding words.\n",
    "\n",
    "Hint:​If a list [ ab,cde,erty] is passed on to the python function output should come as [2,3,4] Here 2,3 and 4 are the lengths of the words in the list."
   ]
  },
  {
   "cell_type": "code",
   "execution_count": 4,
   "metadata": {},
   "outputs": [
    {
     "name": "stdout",
     "output_type": "stream",
     "text": [
      "Enter the Words :Chennai,Goa,Delhi,Mumbai,Bangalore\n",
      "Length of words in List : [7, 3, 5, 6, 9]\n"
     ]
    }
   ],
   "source": [
    "def wordsToNum(my_list):\n",
    "    result = []\n",
    "    for x in my_list:\n",
    "        result.append(len(x))\n",
    "    return result\n",
    "        \n",
    "userInput = input(\"Enter the Words :\")        \n",
    "myList = convertUserInputToList(userInput)\n",
    "mappedList = wordsToNum(myList)\n",
    "print(\"Length of words in List :\",mappedList)"
   ]
  },
  {
   "cell_type": "markdown",
   "metadata": {},
   "source": [
    "Write a Python function which takes a character (i.e. a string of length 1) and returns True if it is a vowel, False otherwise."
   ]
  },
  {
   "cell_type": "code",
   "execution_count": 1,
   "metadata": {},
   "outputs": [
    {
     "name": "stdout",
     "output_type": "stream",
     "text": [
      "Enter a letter :a\n",
      "True\n",
      "Enter a letter :r\n",
      "False\n"
     ]
    }
   ],
   "source": [
    "def isVowel(userInp):\n",
    "    str = userInp.lower()\n",
    "    if len(userInp) == 1 and userInp.isalpha():\n",
    "        if str =='a' or str =='e' or str =='i' or str =='o' or str =='u':\n",
    "            return True\n",
    "        else :\n",
    "            return False\n",
    "    else:\n",
    "        print(\"Please enter only one letter\")\n",
    "        return False\n",
    "\n",
    "\n",
    "for x in range(0,2):\n",
    "    userInp = input(\"Enter a letter :\")\n",
    "    result = isVowel(userInp)\n",
    "    print(result)"
   ]
  },
  {
   "cell_type": "code",
   "execution_count": null,
   "metadata": {},
   "outputs": [],
   "source": []
  }
 ],
 "metadata": {
  "kernelspec": {
   "display_name": "Python 3",
   "language": "python",
   "name": "python3"
  },
  "language_info": {
   "codemirror_mode": {
    "name": "ipython",
    "version": 3
   },
   "file_extension": ".py",
   "mimetype": "text/x-python",
   "name": "python",
   "nbconvert_exporter": "python",
   "pygments_lexer": "ipython3",
   "version": "3.7.4"
  }
 },
 "nbformat": 4,
 "nbformat_minor": 2
}
