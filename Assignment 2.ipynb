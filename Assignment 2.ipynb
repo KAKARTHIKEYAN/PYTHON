{
 "cells": [
  {
   "cell_type": "markdown",
   "metadata": {},
   "source": [
    "# Task 1"
   ]
  },
  {
   "cell_type": "code",
   "execution_count": 12,
   "metadata": {},
   "outputs": [],
   "source": [
    "def convertUserIpToList(userInput):\n",
    "    myCustomList = []\n",
    "    Input = userInput.split(\",\")\n",
    "    for element in Input:\n",
    "        myCustomList.append(int(element))\n",
    "    return myCustomList"
   ]
  },
  {
   "cell_type": "markdown",
   "metadata": {},
   "source": [
    "Write a Python Program to implement your own myreduce() function which works exactly like\n",
    "Python's built-in function reduce()"
   ]
  },
  {
   "cell_type": "code",
   "execution_count": 18,
   "metadata": {},
   "outputs": [
    {
     "name": "stdout",
     "output_type": "stream",
     "text": [
      "enter the number :1,2,3\n",
      "Sum of list :  6\n"
     ]
    }
   ],
   "source": [
    "def myreduce(func, my_list):\n",
    "    result = my_list[0]\n",
    "    for item in my_list[1:]:\n",
    "        result = func(result, item)\n",
    "    return result\n",
    "def sum(x,y): \n",
    "    return x + y\n",
    "userList = convertUserIpToList(input(\"enter the number :\"))\n",
    "print (\"Sum of list : \"   ,myreduce(sum, userList)) "
   ]
  },
  {
   "cell_type": "markdown",
   "metadata": {},
   "source": [
    "Write a Python program to implement your own myfilter() function which works exactly like\n",
    "Python's built-in function filter()"
   ]
  },
  {
   "cell_type": "code",
   "execution_count": 16,
   "metadata": {},
   "outputs": [
    {
     "name": "stdout",
     "output_type": "stream",
     "text": [
      "enter the number :1,2,3,4,5,6,7,8\n",
      "The Even numbers present in list : [2, 4, 6, 8]\n"
     ]
    }
   ],
   "source": [
    "def myfilter(checkEven,lst):\n",
    "    result = []\n",
    "    for ele in lst:\n",
    "        isEven = checkEven(ele)\n",
    "        if(isEven):\n",
    "            result.append(ele)\n",
    "    return result\n",
    "def isEvenNo(num):\n",
    "    if(num % 2 == 0):\n",
    "        return True\n",
    "    \n",
    "\n",
    "userList = convertUserIpToList(input(\"enter the number :\"))\n",
    "evenNoLst = myfilter(isEvenNo,userList)\n",
    "print(\"The Even numbers present in list :\",evenNoLst)\n",
    "    "
   ]
  },
  {
   "cell_type": "markdown",
   "metadata": {},
   "source": [
    "Implement List comprehensions to produce the following lists.\n",
    "Write List comprehensions to produce the following Lists"
   ]
  },
  {
   "cell_type": "code",
   "execution_count": 36,
   "metadata": {},
   "outputs": [
    {
     "name": "stdout",
     "output_type": "stream",
     "text": [
      "['x', 'xx', 'xxx', 'y', 'yy', 'yyy', 'z', 'zz', 'zzz']\n",
      "['x', 'y', 'z', 'xx', 'yy', 'zz', 'xxx', 'yyy', 'zzz']\n",
      "[[2], [3], [4], [3], [4], [5], [4], [5], [6]]\n",
      "[[2, 3, 4, 5], [3, 4, 5, 6], [4, 5, 6, 7], [5, 6, 7, 8]]\n",
      "[(1, 1), (2, 1), (3, 1), (1, 2), (2, 2), (3, 2), (1, 3), (2, 3), (3, 3)]\n"
     ]
    }
   ],
   "source": [
    "inp_lst = [\"x\",\"y\",\"z\"]\n",
    "res = [x*num for x in inp_lst for num in range(1,4)]\n",
    "print(res)\n",
    "\n",
    "res1 = [x*num  for num in range(1,4) for x in inp_lst]\n",
    "print(res1)\n",
    "\n",
    "input_list = [2,3,4]\n",
    "result = [ [x+num] for x in input_list for num in range(0,3)]\n",
    "print(  str(result))\n",
    "\n",
    "\n",
    "input_list = [2,3,4,5]\n",
    "result = [ [x+num for x in input_list] for num in range(0,4)  ]\n",
    "print(  str(result))\n",
    "\n",
    "\n",
    "input_list=[1,2,3]\n",
    "result = [ (b,a) for a in input_list for b in input_list]\n",
    "print(  str(result))"
   ]
  },
  {
   "cell_type": "markdown",
   "metadata": {},
   "source": [
    "Implement a function longestWord() that takes a list of words and returns the longest one."
   ]
  },
  {
   "cell_type": "code",
   "execution_count": 6,
   "metadata": {},
   "outputs": [
    {
     "name": "stdout",
     "output_type": "stream",
     "text": [
      "Enter the Words :Data Science,Machine learning,Deep Learning\n",
      "The longest word is :  Machine learning\n"
     ]
    }
   ],
   "source": [
    "def longestword(myList):\n",
    "    length = 0\n",
    "    for x in myList:\n",
    "        xx=x.strip()\n",
    "        if len(xx) > length:\n",
    "            length = len(xx)\n",
    "            str = xx\n",
    "    return str\n",
    "\n",
    "def convertUserInputToList(userInput):\n",
    "    myCustomList = []\n",
    "    Input = userInput.split(\",\")\n",
    "    for element in Input:\n",
    "        \n",
    "        element.strip()\n",
    "        myCustomList.append(element)\n",
    "    return myCustomList\n",
    "        \n",
    "userInput = input(\"Enter the Words :\")        \n",
    "myList = convertUserInputToList(userInput)\n",
    "longWord = longestword(myList)  \n",
    "print (\"The Longest word is : \",longWord)"
   ]
  },
  {
   "cell_type": "markdown",
   "metadata": {},
   "source": [
    "# Task 2"
   ]
  },
  {
   "cell_type": "markdown",
   "metadata": {},
   "source": [
    "Write a Python Program(with class concepts) to find the area of the triangle using the below\n",
    "formula.\n",
    "area = (s*(s-a)*(s-b)*(s-c)) ** 0.5\n",
    "Function to take the length of the sides of triangle from user should be defined in the parent\n",
    "class and function to calculate the area should be defined in subclass."
   ]
  },
  {
   "cell_type": "code",
   "execution_count": 41,
   "metadata": {},
   "outputs": [
    {
     "name": "stdout",
     "output_type": "stream",
     "text": [
      "Enter the Length of  First side :5\n",
      "Enter the Length of Second side :6\n",
      "Enter the Length of Third side :7\n",
      "the area of triangle is : 14.696938456699069\n"
     ]
    }
   ],
   "source": [
    "class triangle:\n",
    "    def __init__(self,a,b,c):\n",
    "        \n",
    "        self.a = a\n",
    "        self.b = b\n",
    "        self.c =c\n",
    "    def display(self):\n",
    "        print(\"the value of a \",self.a)\n",
    "        print(\"the value of a \",self.b)\n",
    "        print(\"the value of a \",self.c)\n",
    "class area(triangle):\n",
    "\n",
    "    def calSemiPerimeter(self):\n",
    "            self.s = (c.a+c.b+c.c)/2\n",
    "            \n",
    "    def calArea(self):\n",
    "        area = (self.s*(self.s-c.a)*(self.s-c.b)*(self.s-c.c))**0.5\n",
    "        print(\"the Area of triangle is :\" , area)\n",
    "\n",
    "a=int(input(\"Enter the Length of  First side :\" ))  \n",
    "b=int(input(\"Enter the Length of Second side :\" ))\n",
    "c=int(input(\"Enter the Length of Third side :\" ))    \n",
    "c = area(a,b,c)\n",
    "c.calSemiPerimeter()\n",
    "c.calArea()"
   ]
  },
  {
   "cell_type": "markdown",
   "metadata": {},
   "source": [
    "Write a function filter_long_words() that takes a list of words and an integer n and returns the list\n",
    "of words that are longer than n."
   ]
  },
  {
   "cell_type": "code",
   "execution_count": 38,
   "metadata": {},
   "outputs": [
    {
     "name": "stdout",
     "output_type": "stream",
     "text": [
      "Enter the List of Words :karthik,DS,ML\n",
      "Enter the individual word count :2\n",
      "The Filtered Word List is :  ['karthik']\n"
     ]
    }
   ],
   "source": [
    "def filter_long_words(userlist,userInput):\n",
    "    list = []\n",
    "    for x in userlist:\n",
    "        if len(x) > userInput:\n",
    "            list.append(x)\n",
    "    return list\n",
    "            \n",
    "\n",
    "userInput = input(\"Enter the List of Words :\")   \n",
    "maxNumber = int(input(\"Enter the individual word count :\"))\n",
    "myList = convertUserInputToList(userInput)\n",
    "filteredList = filter_long_words(myList,maxNumber)\n",
    "print(\"The Filtered Word List is : \",filteredList)"
   ]
  },
  {
   "cell_type": "markdown",
   "metadata": {},
   "source": [
    "Write a Python program using function concept that maps list of words into a list of integers\n",
    "representing the lengths of the corresponding words.\n",
    "\n",
    "Hint: \n",
    "​If a list [ ab,cde,erty] is passed on to the python function output should come as [2,3,4]\n",
    "Here 2,3 and 4 are the lengths of the words in the list."
   ]
  },
  {
   "cell_type": "code",
   "execution_count": 39,
   "metadata": {},
   "outputs": [
    {
     "name": "stdout",
     "output_type": "stream",
     "text": [
      "Enter the Words :Chennai,Goa,Delhi,Mumbai,Bangalore\n",
      "Mapped List : [7, 3, 5, 6, 9]\n"
     ]
    }
   ],
   "source": [
    "def wordsToNum(my_list):\n",
    "    result = []\n",
    "    for x in my_list:\n",
    "        result.append(len(x))\n",
    "    return result\n",
    "        \n",
    "userInput = input(\"Enter the Words :\")        \n",
    "myList = convertUserInputToList(userInput)\n",
    "mappedList = wordsToNum(myList)\n",
    "print(\"Length of words in List :\",mappedList)"
   ]
  },
  {
   "cell_type": "markdown",
   "metadata": {},
   "source": [
    "Write a Python function which takes a character (i.e. a string of length 1) and returns True if it is\n",
    "a vowel, False otherwise."
   ]
  },
  {
   "cell_type": "code",
   "execution_count": 3,
   "metadata": {},
   "outputs": [
    {
     "name": "stdout",
     "output_type": "stream",
     "text": [
      "Enter a letter :a\n",
      "True\n",
      "Enter a letter :r\n",
      "False\n"
     ]
    }
   ],
   "source": [
    "def isVowel(userInp):\n",
    "    str = userInp.lower()\n",
    "    if len(userInp) == 1 and userInp.isalpha():\n",
    "        if str =='a' or str =='e' or str =='i' or str =='o' or str =='u':\n",
    "            return True\n",
    "        else :\n",
    "            return False\n",
    "    else:\n",
    "        print(\"Please enter only one letter\")\n",
    "        return False\n",
    "\n",
    "\n",
    "for x in range(0,2):\n",
    "    userInp = input(\"Enter a letter :\")\n",
    "    result = isVowel(userInp)\n",
    "    print(result)"
   ]
  },
  {
   "cell_type": "code",
   "execution_count": null,
   "metadata": {},
   "outputs": [],
   "source": []
  },
  {
   "cell_type": "code",
   "execution_count": null,
   "metadata": {},
   "outputs": [],
   "source": []
  }
 ],
 "metadata": {
  "kernelspec": {
   "display_name": "Python 3",
   "language": "python",
   "name": "python3"
  },
  "language_info": {
   "codemirror_mode": {
    "name": "ipython",
    "version": 3
   },
   "file_extension": ".py",
   "mimetype": "text/x-python",
   "name": "python",
   "nbconvert_exporter": "python",
   "pygments_lexer": "ipython3",
   "version": "3.7.4"
  }
 },
 "nbformat": 4,
 "nbformat_minor": 2
}
